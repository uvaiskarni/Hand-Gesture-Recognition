{
 "cells": [
  {
   "cell_type": "markdown",
   "metadata": {},
   "source": [
    "# Subsystem 2"
   ]
  },
  {
   "cell_type": "markdown",
   "metadata": {},
   "source": [
    "# Model to predict the gesture type"
   ]
  },
  {
   "cell_type": "code",
   "execution_count": 1,
   "metadata": {},
   "outputs": [
    {
     "name": "stderr",
     "output_type": "stream",
     "text": [
      "Using TensorFlow backend.\n"
     ]
    }
   ],
   "source": [
    "# Import the python packages \n",
    "import pandas as pd\n",
    "from sklearn import preprocessing\n",
    "from sklearn.preprocessing import LabelBinarizer\n",
    "from sklearn.model_selection import train_test_split\n",
    "import joblib\n",
    "from keras.models import Sequential\n",
    "from keras.layers import Dense\n"
   ]
  },
  {
   "cell_type": "code",
   "execution_count": 5,
   "metadata": {},
   "outputs": [],
   "source": [
    "# Read the landmarks dataset to train model for subystem 2 \n",
    "\n",
    "df = pd.read_csv('Dataset_Subsystem_2.csv')"
   ]
  },
  {
   "cell_type": "code",
   "execution_count": 6,
   "metadata": {},
   "outputs": [
    {
     "data": {
      "text/plain": [
       "array([[494, 295, 412, ...,   0,   0,   0],\n",
       "       [493, 294, 410, ...,   0,   0,   0],\n",
       "       [493, 294, 409, ...,   0,   0,   0],\n",
       "       ...,\n",
       "       [  0,   0,   0, ...,   0,   0,   0],\n",
       "       [  0,   0,   0, ...,   0,   0,   0],\n",
       "       [  0,   0,   0, ...,   0,   0,   0]], dtype=int64)"
      ]
     },
     "execution_count": 6,
     "metadata": {},
     "output_type": "execute_result"
    }
   ],
   "source": [
    "# Landmark points\n",
    "\n",
    "new_df = df.iloc[:,4:]\n",
    "X = new_df.values\n",
    "X"
   ]
  },
  {
   "cell_type": "code",
   "execution_count": 7,
   "metadata": {},
   "outputs": [
    {
     "data": {
      "text/plain": [
       "array(['openpalm', 'openpalm', 'openpalm', ..., 'three_fingersdorsal',\n",
       "       'three_fingersdorsal', 'three_fingersdorsal'], dtype=object)"
      ]
     },
     "execution_count": 7,
     "metadata": {},
     "output_type": "execute_result"
    }
   ],
   "source": [
    "# Labels - Gestures \n",
    "\n",
    "temp = df.iloc[:,2:4]\n",
    "temp['label'] = temp[['camera_facing_side', 'gesture']].apply(lambda x: ''.join(x), axis=1)\n",
    "Y = temp.iloc[:,2]\n",
    "Y = Y.values\n",
    "Y"
   ]
  },
  {
   "cell_type": "code",
   "execution_count": 8,
   "metadata": {},
   "outputs": [
    {
     "name": "stdout",
     "output_type": "stream",
     "text": [
      "[[0 0 0 1 0 0]\n",
      " [0 0 0 1 0 0]\n",
      " [0 0 0 1 0 0]\n",
      " ...\n",
      " [0 0 0 0 1 0]\n",
      " [0 0 0 0 1 0]\n",
      " [0 0 0 0 1 0]]\n"
     ]
    }
   ],
   "source": [
    "# Min max scaling and converting the classes into one hot encoding values\n",
    "\n",
    "# Min max scaling the training data\n",
    "scaler = preprocessing.MinMaxScaler()\n",
    "scaler.fit(X)\n",
    "X_scale = scaler.transform(X)\n",
    "\n",
    "# Save the Minmaxscaler to be used in subsystem1 \n",
    "scaler_filename = \"Subsystem2_model/minmaxscaler.save\"\n",
    "joblib.dump(scaler, scaler_filename) \n",
    "\n",
    "# One hot encoding for the labels\n",
    "encoder = LabelBinarizer()\n",
    "transformed_label = encoder.fit_transform(Y)\n",
    "Y = transformed_label\n",
    "print(Y)"
   ]
  },
  {
   "cell_type": "code",
   "execution_count": 9,
   "metadata": {},
   "outputs": [
    {
     "name": "stdout",
     "output_type": "stream",
     "text": [
      "(43553, 80) (9333, 80) (9333, 80) (43553, 6) (9333, 6) (9333, 6)\n"
     ]
    }
   ],
   "source": [
    "#Split the dataset into train,test and validation sets\n",
    "\n",
    "X_train, X_val_and_test, Y_train, Y_val_and_test = train_test_split(X_scale, Y, test_size=0.3)\n",
    "\n",
    "X_val, X_test, Y_val, Y_test = train_test_split(X_val_and_test, Y_val_and_test, test_size=0.5)\n",
    "\n",
    "print(X_train.shape, X_val.shape, X_test.shape, Y_train.shape, Y_val.shape, Y_test.shape)"
   ]
  },
  {
   "cell_type": "code",
   "execution_count": 13,
   "metadata": {
    "scrolled": true
   },
   "outputs": [
    {
     "name": "stdout",
     "output_type": "stream",
     "text": [
      "Train on 43553 samples, validate on 9333 samples\n",
      "Epoch 1/10\n",
      "43553/43553 [==============================] - 1s 29us/step - loss: 1.0289 - accuracy: 0.7935 - val_loss: 0.2278 - val_accuracy: 0.9775\n",
      "Epoch 2/10\n",
      "43553/43553 [==============================] - 1s 26us/step - loss: 0.1108 - accuracy: 0.9926 - val_loss: 0.0639 - val_accuracy: 0.9929\n",
      "Epoch 3/10\n",
      "43553/43553 [==============================] - 1s 26us/step - loss: 0.0490 - accuracy: 0.9930 - val_loss: 0.0376 - val_accuracy: 0.9929\n",
      "Epoch 4/10\n",
      "43553/43553 [==============================] - 1s 27us/step - loss: 0.0309 - accuracy: 0.9930 - val_loss: 0.0250 - val_accuracy: 0.9929\n",
      "Epoch 5/10\n",
      "43553/43553 [==============================] - 1s 26us/step - loss: 0.0212 - accuracy: 0.9935 - val_loss: 0.0177 - val_accuracy: 0.9945\n",
      "Epoch 6/10\n",
      "43553/43553 [==============================] - 1s 26us/step - loss: 0.0155 - accuracy: 0.9966 - val_loss: 0.0131 - val_accuracy: 0.9976\n",
      "Epoch 7/10\n",
      "43553/43553 [==============================] - 1s 26us/step - loss: 0.0117 - accuracy: 0.9986 - val_loss: 0.0101 - val_accuracy: 0.9999\n",
      "Epoch 8/10\n",
      "43553/43553 [==============================] - 1s 26us/step - loss: 0.0090 - accuracy: 1.0000 - val_loss: 0.0079 - val_accuracy: 1.0000\n",
      "Epoch 9/10\n",
      "43553/43553 [==============================] - 1s 27us/step - loss: 0.0072 - accuracy: 1.0000 - val_loss: 0.0063 - val_accuracy: 1.0000\n",
      "Epoch 10/10\n",
      "43553/43553 [==============================] - 1s 26us/step - loss: 0.0059 - accuracy: 1.0000 - val_loss: 0.0052 - val_accuracy: 1.0000\n"
     ]
    }
   ],
   "source": [
    "#Train the model and save the model to be used in Subsystem 1\n",
    "\n",
    "model = Sequential([Dense(32, activation='relu', input_shape=(80,)),Dense(32, activation='relu'),Dense(6, activation='sigmoid'),])\n",
    "\n",
    "model.compile(optimizer='sgd',loss='categorical_crossentropy',metrics=['accuracy'])\n",
    "\n",
    "hist = model.fit(X_train,Y_train,batch_size=32, epochs=10,validation_data=(X_val, Y_val))\n",
    "\n",
    "model.save(\"Subsystem2_model/GestureRecogModel.sav\")"
   ]
  },
  {
   "cell_type": "code",
   "execution_count": 12,
   "metadata": {},
   "outputs": [
    {
     "name": "stdout",
     "output_type": "stream",
     "text": [
      "9333/9333 [==============================] - 0s 32us/step\n"
     ]
    },
    {
     "data": {
      "text/plain": [
       "1.0"
      ]
     },
     "execution_count": 12,
     "metadata": {},
     "output_type": "execute_result"
    }
   ],
   "source": [
    "# Evaluate the model for performance check on Test sets\n",
    "\n",
    "model.evaluate(X_test, Y_test)[1]"
   ]
  }
 ],
 "metadata": {
  "kernelspec": {
   "display_name": "Python 3",
   "language": "python",
   "name": "python3"
  },
  "language_info": {
   "codemirror_mode": {
    "name": "ipython",
    "version": 3
   },
   "file_extension": ".py",
   "mimetype": "text/x-python",
   "name": "python",
   "nbconvert_exporter": "python",
   "pygments_lexer": "ipython3",
   "version": "3.7.6"
  }
 },
 "nbformat": 4,
 "nbformat_minor": 4
}
